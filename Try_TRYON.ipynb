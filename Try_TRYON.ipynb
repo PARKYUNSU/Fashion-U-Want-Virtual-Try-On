{
 "cells": [
  {
   "cell_type": "code",
   "execution_count": null,
   "metadata": {
    "colab": {
     "base_uri": "https://localhost:8080/"
    },
    "id": "qgT0AsUCrzdd",
    "outputId": "ef3b7463-02df-49ac-aeb7-ced26d50ee99"
   },
   "outputs": [],
   "source": [
    "!rm -rf Fashion-U-Want-Virtual-Try-On\n",
    "!git clone https://github.com/PARKYUNSU/Fashion-U-Want-Virtual-Try-On\n",
    "\n",
    "!pip install numpy==1.24.4 scipy==1.13.3 --no-cache-dir --force-reinstall\n",
    "\n",
    "!pip install carvekit\n",
    "\n",
    "!pip install tensorboardX av torchgeometry iglovikov_helper_functions albumentations\n",
    "\n",
    "%cd Fashion-U-Want-Virtual-Try-On\n",
    "\n",
    "!python -m pip install 'git+https://github.com/facebookresearch/detectron2.git'"
   ]
  },
  {
   "cell_type": "code",
   "execution_count": null,
   "metadata": {},
   "outputs": [],
   "source": [
    "import os\n",
    "import gdown\n",
    "\n",
    "# install dependencies \n",
    "!apt-get update\n",
    "!apt-get install -y cmake libatlas-base-dev gfortran libopencv-dev libopenblas-dev liblapack-dev\n",
    "!apt-get install -y build-essential libprotobuf-dev protobuf-compiler\n",
    "!apt-get install -y libgoogle-glog-dev libgflags-dev libhdf5-dev libleveldb-dev liblmdb-dev libsnappy-dev\n",
    "!apt-get install -y libboost-all-dev\n",
    "\n",
    "# OpenPose\n",
    "os.chdir(\"openpose\")\n",
    "\n",
    "os.makedirs(\"models/pose/body_25\", exist_ok=True)\n",
    "\n",
    "# download body_25\n",
    "body25_model_url = \"https://drive.google.com/uc?id=17SOFB6MXFHViYmhzAV0LguoRYJrJMF4e\"\n",
    "body25_model_path = \"models/pose/body_25/pose_iter_584000.caffemodel\"\n",
    "\n",
    "print(\"Downloading body_25 model...\")\n",
    "gdown.download(body25_model_url, body25_model_path, quiet=False)\n",
    "\n",
    "cmake_file_path = \"CMakeLists.txt\"\n",
    "if os.path.exists(cmake_file_path):\n",
    "    with open(cmake_file_path, \"r\") as file:\n",
    "        cmake_content = file.readlines()\n",
    "    with open(cmake_file_path, \"w\") as file:\n",
    "        for line in cmake_content:\n",
    "            # Only body_25\n",
    "            if not any(model in line for model in [\"BODY_COCO\", \"BODY_MPI\", \"FACE\", \"HAND\"]):\n",
    "                file.write(line)\n",
    "    print(\"CMakeLists.txt modified to only use body_25 model.\")\n",
    "else:\n",
    "    print(\"CMakeLists.txt not found.\")\n",
    "\n",
    "# build Openpose\n",
    "!mkdir build\n",
    "os.chdir(\"build\")\n",
    "!cmake ..\n",
    "!make -j$(nproc)\n",
    "os.chdir(\"../../\")"
   ]
  },
  {
   "cell_type": "code",
   "execution_count": null,
   "metadata": {
    "colab": {
     "base_uri": "https://localhost:8080/"
    },
    "id": "J-ggVbnUsv6W",
    "outputId": "30d0ca4e-b42e-46f2-c681-09eedecb9d57"
   },
   "outputs": [],
   "source": [
    "!pip install --upgrade --no-cache-dir gdown\n",
    "\n",
    "%cd HR-VITON\n",
    "!gdown https://drive.google.com/u/0/uc?id=1T5_YDUhYSSKPC_nZMk2NeC-XXUFoYeNy&export=download\n",
    "!gdown https://drive.google.com/u/0/uc?id=1XJTCdRBOPVgVTmqzhVGFAgMm2NLkw5uQ&export=download\n",
    "%cd ../\n",
    "\n",
    "%cd Graphonomy-master\n",
    "!gdown https://drive.google.com/u/0/uc?id=1eUe18HoH05p0yFUd_sN6GXdTj82aW0m9&export=download\n",
    "%cd ../"
   ]
  },
  {
   "cell_type": "markdown",
   "metadata": {
    "id": "b0SbxjFDJVig"
   },
   "source": [
    "# Cloth\n",
    "Upload the image of the clothing you want to apply!"
   ]
  },
  {
   "cell_type": "code",
   "execution_count": null,
   "metadata": {
    "colab": {
     "base_uri": "https://localhost:8080/",
     "height": 74
    },
    "id": "d0FCWO0F0aJz",
    "outputId": "2009a2c7-6857-4475-9685-cfef7182f7d2"
   },
   "outputs": [],
   "source": [
    "import os\n",
    "import shutil\n",
    "from google.colab import files\n",
    "\n",
    "input_dir = 'input'\n",
    "uploaded = files.upload()\n",
    "for filename in uploaded.keys():\n",
    "  input_path = os.path.join(input_dir, filename)\n",
    "  shutil.move(filename, input_path)\n",
    "os.rename(input_path, input_dir+'/cloth.jpg')"
   ]
  },
  {
   "cell_type": "markdown",
   "metadata": {
    "id": "lubgl-jYJdjA"
   },
   "source": [
    "# Person\n",
    "Upload the image of the person or model you'd like to use!"
   ]
  },
  {
   "cell_type": "code",
   "execution_count": null,
   "metadata": {
    "colab": {
     "base_uri": "https://localhost:8080/",
     "height": 74
    },
    "id": "WlnOnLBV0cvb",
    "outputId": "96f3776b-c7c7-4ae2-cb51-39179eaf371e"
   },
   "outputs": [],
   "source": [
    "input_dir = 'input'\n",
    "uploaded = files.upload()\n",
    "for filename in uploaded.keys():\n",
    "  input_path = os.path.join(input_dir, filename)\n",
    "  shutil.move(filename, input_path)\n",
    "os.rename(input_path, input_dir+'/model.jpg')"
   ]
  },
  {
   "cell_type": "code",
   "execution_count": null,
   "metadata": {
    "colab": {
     "base_uri": "https://localhost:8080/",
     "height": 485
    },
    "id": "UgUelEis8DS0",
    "outputId": "33e898da-96c6-436d-fdc4-fe7d482cd20f"
   },
   "outputs": [],
   "source": [
    "import matplotlib.pyplot as plt\n",
    "import cv2\n",
    "\n",
    "mode = cv2.cvtColor(cv2.imread(\"./input/model.jpg\"), cv2.COLOR_BGR2RGB)\n",
    "cloth = cv2.cvtColor(cv2.imread(\"./input/cloth.jpg\"), cv2.COLOR_BGR2RGB)\n",
    "## Display Images\n",
    "fig, axes = plt.subplots(nrows=1, ncols=2)\n",
    "dpi = fig.get_dpi()\n",
    "fig.set_size_inches(900/ dpi, 448 / dpi)\n",
    "plt.subplots_adjust(left=0, right=1, bottom=0, top=1)\n",
    "axes[0].axis('off')\n",
    "axes[0].imshow(mode)\n",
    "axes[1].axis('off')\n",
    "axes[1].imshow(cloth)\n",
    "plt.show()"
   ]
  },
  {
   "cell_type": "code",
   "execution_count": null,
   "metadata": {
    "colab": {
     "base_uri": "https://localhost:8080/"
    },
    "id": "PG76RPVL8IFl",
    "outputId": "bb67d237-b13b-44be-aaa3-8857484ecf98"
   },
   "outputs": [],
   "source": [
    "!python main.py #--background False"
   ]
  },
  {
   "cell_type": "code",
   "execution_count": null,
   "metadata": {
    "colab": {
     "base_uri": "https://localhost:8080/",
     "height": 1000
    },
    "id": "PjEYN7iGBEeq",
    "outputId": "6daae658-c260-4758-aab2-fd208934a8a0"
   },
   "outputs": [],
   "source": [
    "from PIL import Image\n",
    "from IPython.display import Image\n",
    "\n",
    "image1 = Image(filename=\"./input/finalimg.png\")\n",
    "display(image1)"
   ]
  }
 ],
 "metadata": {
  "accelerator": "GPU",
  "colab": {
   "gpuType": "T4",
   "provenance": []
  },
  "kernelspec": {
   "display_name": "Python 3",
   "name": "python3"
  },
  "language_info": {
   "name": "python"
  }
 },
 "nbformat": 4,
 "nbformat_minor": 0
}
